{
 "cells": [
  {
   "cell_type": "code",
   "execution_count": null,
   "id": "8800d043",
   "metadata": {},
   "outputs": [],
   "source": [
    "#Tip calculator in python\n",
    "\n",
    "\n",
    "Total_Bill = int( input(\"Enter total Bill amount: \"))\n",
    "Number_of_people = int(input (\"Enter total number of participants: \"))\n",
    "Tips = int(input(\"How much tip you want to give 10% , 12 % , 15% on total Bill:\"))\n",
    "\n",
    "Total_Bill_With_tip = Total_Bill + (Total_Bill * Tips /100)\n",
    "Each_person = (Total_Bill_With_tip / Number_of_people )\n",
    "Final_Bill = round(Each_person, 2)\n",
    "\n",
    "print(f\"Each person should pay : {Final_Bill}\")"
   ]
  }
 ],
 "metadata": {
  "kernelspec": {
   "display_name": "Python 3 (ipykernel)",
   "language": "python",
   "name": "python3"
  },
  "language_info": {
   "codemirror_mode": {
    "name": "ipython",
    "version": 3
   },
   "file_extension": ".py",
   "mimetype": "text/x-python",
   "name": "python",
   "nbconvert_exporter": "python",
   "pygments_lexer": "ipython3",
   "version": "3.9.7"
  }
 },
 "nbformat": 4,
 "nbformat_minor": 5
}
